{
 "cells": [
  {
   "cell_type": "markdown",
   "id": "demonstrated-belize",
   "metadata": {},
   "source": [
    "#### Packages + Datas"
   ]
  },
  {
   "cell_type": "code",
   "execution_count": 28,
   "id": "determined-meter",
   "metadata": {},
   "outputs": [],
   "source": [
    "import pandas as pd\n",
    "import numpy as np\n",
    "import statsmodels.api as sm\n",
    "from sklearn.datasets import load_boston\n",
    "data = load_boston()  #1\n",
    "\n",
    "import statsmodels.formula.api as smf\n",
    "url = \"http://data.princeton.edu/wws509/datasets/salary.dat\"  #2\n",
    "\n",
    "import sys\n",
    "from sklearn.neighbors import KNeighborsClassifier\n",
    "from sklearn.datasets import load_iris  #3 / 4\n",
    "\n",
    "from mlxtend.plotting import plot_sequential_feature_selection as plot_sfs\n",
    "import matplotlib.pyplot as plt                "
   ]
  },
  {
   "cell_type": "markdown",
   "id": "controlled-cricket",
   "metadata": {},
   "source": [
    "#####  1 : STEP REGRESSION AIC CRITERIA"
   ]
  },
  {
   "cell_type": "code",
   "execution_count": null,
   "id": "raised-entry",
   "metadata": {},
   "outputs": [],
   "source": [
    "X = pd.DataFrame(data.data, columns=data.feature_names)\n",
    "y = data.target    \n",
    "\n",
    "def stepwise_selection(X, y, \n",
    "                       initial_list=[], \n",
    "                       threshold_in=0.01, \n",
    "                       threshold_out = 0.05, \n",
    "                       verbose=True):\n",
    "    \"\"\" Perform a forward-backward feature selection \n",
    "    based on p-value from statsmodels.api.OLS\n",
    "    Arguments:\n",
    "        X - pandas.DataFrame with candidate features\n",
    "        y - list-like with the target\n",
    "        initial_list - list of features to start with (column names of X)\n",
    "        threshold_in - include a feature if its p-value < threshold_in\n",
    "        threshold_out - exclude a feature if its p-value > threshold_out\n",
    "        verbose - whether to print the sequence of inclusions and exclusions\n",
    "    Returns: list of selected features \n",
    "    Always set threshold_in < threshold_out to avoid infinite looping.\n",
    "    \"\"\"\n",
    "    included = list(initial_list)\n",
    "    while True:\n",
    "        changed=False\n",
    "        # forward step\n",
    "        excluded = list(set(X.columns)-set(included))\n",
    "        new_pval = pd.Series(index=excluded)\n",
    "        for new_column in excluded:\n",
    "            model = sm.OLS(y, sm.add_constant(pd.DataFrame(X[included+[new_column]]))).fit()\n",
    "            new_pval[new_column] = model.pvalues[new_column]\n",
    "        best_pval = new_pval.min()\n",
    "        if best_pval < threshold_in:\n",
    "            best_feature = new_pval.argmin()\n",
    "            included.append(best_feature)\n",
    "            changed=True\n",
    "            if verbose:\n",
    "                print('Add  {:30} with p-value {:.6}'.format(best_feature, best_pval))\n",
    "\n",
    "        # backward step\n",
    "        model = sm.OLS(y, sm.add_constant(pd.DataFrame(X[included]))).fit()\n",
    "        # use all coefs except intercept\n",
    "        pvalues = model.pvalues.iloc[1:]\n",
    "        worst_pval = pvalues.max() # null if pvalues is empty\n",
    "        if worst_pval > threshold_out:\n",
    "            changed=True\n",
    "            worst_feature = pvalues.argmax()\n",
    "            included.remove(worst_feature)\n",
    "            if verbose:\n",
    "                print('Drop {:30} with p-value {:.6}'.format(worst_feature, worst_pval))\n",
    "        if not changed:\n",
    "            break\n",
    "    return included\n",
    "\n",
    "result = stepwise_selection(X, y)\n",
    "print('resulting features:')\n",
    "print(result)"
   ]
  },
  {
   "cell_type": "markdown",
   "id": "demanding-client",
   "metadata": {},
   "source": [
    "#### 2-FORWARD FEATURES SELECTION"
   ]
  },
  {
   "cell_type": "code",
   "execution_count": 8,
   "id": "practical-mitchell",
   "metadata": {},
   "outputs": [],
   "source": [
    "def forward_selected(data, response):\n",
    "    \"\"\"Linear model designed by forward selection.\n",
    "\n",
    "    Parameters:\n",
    "    -----------\n",
    "    data : pandas DataFrame with all possible predictors and response\n",
    "\n",
    "    response: string, name of response column in data\n",
    "\n",
    "    Returns:\n",
    "    --------\n",
    "    model: an \"optimal\" fitted statsmodels linear model\n",
    "           with an intercept\n",
    "           selected by forward selection\n",
    "           evaluated by adjusted R-squared\n",
    "    \"\"\"\n",
    "    remaining = set(data.columns)\n",
    "    remaining.remove(response)\n",
    "    selected = []\n",
    "    current_score, best_new_score = 0.0, 0.0\n",
    "    while remaining and current_score == best_new_score:\n",
    "        scores_with_candidates = []\n",
    "        for candidate in remaining:\n",
    "            formula = \"{} ~ {} + 1\".format(response,\n",
    "                                           ' + '.join(selected + [candidate]))\n",
    "            score = smf.ols(formula, data).fit().rsquared_adj\n",
    "            scores_with_candidates.append((score, candidate))\n",
    "        scores_with_candidates.sort()\n",
    "        best_new_score, best_candidate = scores_with_candidates.pop()\n",
    "        if current_score < best_new_score:\n",
    "            remaining.remove(best_candidate)\n",
    "            selected.append(best_candidate)\n",
    "            current_score = best_new_score\n",
    "    formula = \"{} ~ {} + 1\".format(response,\n",
    "                                   ' + '.join(selected))\n",
    "    model = smf.ols(formula, data).fit()\n",
    "    return model"
   ]
  },
  {
   "cell_type": "code",
   "execution_count": 11,
   "id": "asian-defeat",
   "metadata": {},
   "outputs": [
    {
     "name": "stdout",
     "output_type": "stream",
     "text": [
      "       sx    rk  yr         dg  yd     sl\n",
      "0    male  full  25  doctorate  35  36350\n",
      "1    male  full  13  doctorate  22  35350\n",
      "2    male  full  10  doctorate  23  28200\n",
      "3  female  full   7  doctorate  27  26775\n",
      "4    male  full  19    masters  30  33696\n",
      "5    male  full  16  doctorate  21  28516\n",
      "6  female  full   0    masters  32  24900\n",
      "7    male  full  16  doctorate  18  31909\n",
      "8    male  full  13    masters  30  31850\n",
      "9    male  full  13    masters  31  32850\n",
      "sl ~ rk + yr + 1\n",
      "0.835190760537986\n"
     ]
    }
   ],
   "source": [
    "data = pd.read_csv(url, sep='\\\\s+')\n",
    "model = forward_selected(data, 'sl')\n",
    "print(data.head(10))\n",
    "print (model.model.formula)\n",
    "print (model.rsquared_adj)"
   ]
  },
  {
   "cell_type": "markdown",
   "id": "bright-lawsuit",
   "metadata": {},
   "source": [
    "#### 3 - SEQUENTIAL FORWARD SELECTION"
   ]
  },
  {
   "cell_type": "code",
   "execution_count": 23,
   "id": "african-spank",
   "metadata": {},
   "outputs": [
    {
     "name": "stdout",
     "output_type": "stream",
     "text": [
      "\u001b[1;34m{1: {'feature_idx': (3,), 'cv_scores': array([0.96]), 'avg_score': 0.96, 'feature_names': ('3',)}, 2: {'feature_idx': (2, 3), 'cv_scores': array([0.97333333]), 'avg_score': 0.9733333333333334, 'feature_names': ('2', '3')}, 3: {'feature_idx': (1, 2, 3), 'cv_scores': array([0.97333333]), 'avg_score': 0.9733333333333334, 'feature_names': ('1', '2', '3')}}\n"
     ]
    },
    {
     "name": "stderr",
     "output_type": "stream",
     "text": [
      "[Parallel(n_jobs=1)]: Using backend SequentialBackend with 1 concurrent workers.\n",
      "[Parallel(n_jobs=1)]: Done   1 out of   1 | elapsed:    0.0s remaining:    0.0s\n",
      "[Parallel(n_jobs=1)]: Done   4 out of   4 | elapsed:    0.0s finished\n",
      "\n",
      "[2021-09-03 22:02:13] Features: 1/3 -- score: 0.96[Parallel(n_jobs=1)]: Using backend SequentialBackend with 1 concurrent workers.\n",
      "[Parallel(n_jobs=1)]: Done   1 out of   1 | elapsed:    0.0s remaining:    0.0s\n",
      "[Parallel(n_jobs=1)]: Done   3 out of   3 | elapsed:    0.0s finished\n",
      "\n",
      "[2021-09-03 22:02:13] Features: 2/3 -- score: 0.9733333333333334[Parallel(n_jobs=1)]: Using backend SequentialBackend with 1 concurrent workers.\n",
      "[Parallel(n_jobs=1)]: Done   1 out of   1 | elapsed:    0.0s remaining:    0.0s\n",
      "[Parallel(n_jobs=1)]: Done   2 out of   2 | elapsed:    0.0s finished\n",
      "\n",
      "[2021-09-03 22:02:13] Features: 3/3 -- score: 0.9733333333333334"
     ]
    }
   ],
   "source": [
    "GREEN = \"\\033[0;32m\"\n",
    "BLUE  = \"\\033[1;34m\"\n",
    "iris = load_iris()\n",
    "X = iris.data\n",
    "y = iris.target\n",
    "knn = KNeighborsClassifier(n_neighbors=4)\n",
    "\n",
    "from mlxtend.feature_selection import SequentialFeatureSelector as SFS\n",
    "\n",
    "sfs1 = SFS(knn, \n",
    "           k_features=3, \n",
    "           forward=True, \n",
    "           floating=False, \n",
    "           verbose=2,\n",
    "           scoring='accuracy',\n",
    "           cv=0)\n",
    "sys.stdout.write(BLUE)\n",
    "sfs1 = sfs1.fit(X, y)\n",
    "print(sfs1.subsets_)"
   ]
  },
  {
   "cell_type": "markdown",
   "id": "accepting-playlist",
   "metadata": {},
   "source": [
    "#### 4 : SFS, SBS, SFFS, and SBFS"
   ]
  },
  {
   "cell_type": "code",
   "execution_count": 34,
   "id": "acquired-poverty",
   "metadata": {},
   "outputs": [
    {
     "name": "stdout",
     "output_type": "stream",
     "text": [
      "\u001b[1;34m\n",
      "Sequential Forward Selection (k=3): (0, 2, 3)\n",
      "CV Score: 0.9533333333333334\n",
      "\n",
      "Sequential Backward Selection (k=3): (0, 2, 3)\n",
      "CV Score: 0.9533333333333334\n",
      "\n",
      "Sequential Forward Floating Selection (k=3): (0, 2, 3)\n",
      "CV Score: 0.9533333333333334\n",
      "\n",
      "Sequential Backward Floating Selection (k=3): (0, 2, 3)\n",
      "CV Score: 0.9533333333333334\n"
     ]
    }
   ],
   "source": [
    "# Sequential Forward Selection\n",
    "sfs = SFS(knn, k_features=3, forward=True, floating=False, scoring='accuracy',cv=5,n_jobs=-1)\n",
    "sfs = sfs.fit(X, y)\n",
    "sys.stdout.write(BLUE)\n",
    "print('\\nSequential Forward Selection (k=3):',sfs.k_feature_idx_)\n",
    "print('CV Score:',sfs.k_score_)\n",
    "\n",
    "# Sequential Backward Selection\n",
    "sbs = SFS(knn, k_features=3, forward=False, floating=False, scoring='accuracy',cv=5, n_jobs=-1)\n",
    "sbs = sbs.fit(X, y)\n",
    "print('\\nSequential Backward Selection (k=3):',sfs.k_feature_idx_)\n",
    "print('CV Score:',sbs.k_score_)\n",
    "\n",
    "# Sequential Forward Floating Selection\n",
    "sffs = SFS(knn, k_features=3, forward=True, floating=True, scoring='accuracy',cv=5, n_jobs=-1)\n",
    "sffs = sffs.fit(X, y)\n",
    "print('\\nSequential Forward Floating Selection (k=3):',sfs.k_feature_idx_)\n",
    "print('CV Score:',sffs.k_score_)\n",
    "\n",
    "# Sequential Backward Floating Selection\n",
    "sbfs = SFS(knn, k_features=3, forward=False, floating=True, scoring='accuracy',cv=5, n_jobs=-1)\n",
    "sbfs = sbfs.fit(X, y)\n",
    "print('\\nSequential Backward Floating Selection (k=3):',sfs.k_feature_idx_)\n",
    "print('CV Score:',sbfs.k_score_)"
   ]
  },
  {
   "cell_type": "code",
   "execution_count": 26,
   "id": "entitled-ordinary",
   "metadata": {},
   "outputs": [
    {
     "data": {
      "text/html": [
       "<div>\n",
       "<style scoped>\n",
       "    .dataframe tbody tr th:only-of-type {\n",
       "        vertical-align: middle;\n",
       "    }\n",
       "\n",
       "    .dataframe tbody tr th {\n",
       "        vertical-align: top;\n",
       "    }\n",
       "\n",
       "    .dataframe thead th {\n",
       "        text-align: right;\n",
       "    }\n",
       "</style>\n",
       "<table border=\"1\" class=\"dataframe\">\n",
       "  <thead>\n",
       "    <tr style=\"text-align: right;\">\n",
       "      <th></th>\n",
       "      <th>feature_idx</th>\n",
       "      <th>cv_scores</th>\n",
       "      <th>avg_score</th>\n",
       "      <th>feature_names</th>\n",
       "      <th>ci_bound</th>\n",
       "      <th>std_dev</th>\n",
       "      <th>std_err</th>\n",
       "    </tr>\n",
       "  </thead>\n",
       "  <tbody>\n",
       "    <tr>\n",
       "      <th>4</th>\n",
       "      <td>(0, 1, 2, 3)</td>\n",
       "      <td>[0.9666666666666667, 0.9666666666666667, 0.966...</td>\n",
       "      <td>0.973333</td>\n",
       "      <td>(0, 1, 2, 3)</td>\n",
       "      <td>0.0171372</td>\n",
       "      <td>0.0133333</td>\n",
       "      <td>0.00666667</td>\n",
       "    </tr>\n",
       "    <tr>\n",
       "      <th>3</th>\n",
       "      <td>(0, 1, 3)</td>\n",
       "      <td>[0.9333333333333333, 0.9666666666666667, 0.966...</td>\n",
       "      <td>0.953333</td>\n",
       "      <td>(0, 1, 3)</td>\n",
       "      <td>0.0209887</td>\n",
       "      <td>0.0163299</td>\n",
       "      <td>0.00816497</td>\n",
       "    </tr>\n",
       "  </tbody>\n",
       "</table>\n",
       "</div>"
      ],
      "text/plain": [
       "    feature_idx                                          cv_scores avg_score  \\\n",
       "4  (0, 1, 2, 3)  [0.9666666666666667, 0.9666666666666667, 0.966...  0.973333   \n",
       "3     (0, 1, 3)  [0.9333333333333333, 0.9666666666666667, 0.966...  0.953333   \n",
       "\n",
       "  feature_names   ci_bound    std_dev     std_err  \n",
       "4  (0, 1, 2, 3)  0.0171372  0.0133333  0.00666667  \n",
       "3     (0, 1, 3)  0.0209887  0.0163299  0.00816497  "
      ]
     },
     "execution_count": 26,
     "metadata": {},
     "output_type": "execute_result"
    }
   ],
   "source": [
    "pd.DataFrame.from_dict(sbs.get_metric_dict()).T"
   ]
  },
  {
   "cell_type": "code",
   "execution_count": 27,
   "id": "comfortable-profit",
   "metadata": {},
   "outputs": [
    {
     "data": {
      "text/html": [
       "<div>\n",
       "<style scoped>\n",
       "    .dataframe tbody tr th:only-of-type {\n",
       "        vertical-align: middle;\n",
       "    }\n",
       "\n",
       "    .dataframe tbody tr th {\n",
       "        vertical-align: top;\n",
       "    }\n",
       "\n",
       "    .dataframe thead th {\n",
       "        text-align: right;\n",
       "    }\n",
       "</style>\n",
       "<table border=\"1\" class=\"dataframe\">\n",
       "  <thead>\n",
       "    <tr style=\"text-align: right;\">\n",
       "      <th></th>\n",
       "      <th>feature_idx</th>\n",
       "      <th>cv_scores</th>\n",
       "      <th>avg_score</th>\n",
       "      <th>feature_names</th>\n",
       "      <th>ci_bound</th>\n",
       "      <th>std_dev</th>\n",
       "      <th>std_err</th>\n",
       "    </tr>\n",
       "  </thead>\n",
       "  <tbody>\n",
       "    <tr>\n",
       "      <th>4</th>\n",
       "      <td>(0, 1, 2, 3)</td>\n",
       "      <td>[0.9666666666666667, 0.9666666666666667, 0.966...</td>\n",
       "      <td>0.973333</td>\n",
       "      <td>(0, 1, 2, 3)</td>\n",
       "      <td>0.0134337</td>\n",
       "      <td>0.0133333</td>\n",
       "      <td>0.00666667</td>\n",
       "    </tr>\n",
       "    <tr>\n",
       "      <th>3</th>\n",
       "      <td>(0, 1, 3)</td>\n",
       "      <td>[0.9333333333333333, 0.9666666666666667, 0.966...</td>\n",
       "      <td>0.953333</td>\n",
       "      <td>(0, 1, 3)</td>\n",
       "      <td>0.0164528</td>\n",
       "      <td>0.0163299</td>\n",
       "      <td>0.00816497</td>\n",
       "    </tr>\n",
       "  </tbody>\n",
       "</table>\n",
       "</div>"
      ],
      "text/plain": [
       "    feature_idx                                          cv_scores avg_score  \\\n",
       "4  (0, 1, 2, 3)  [0.9666666666666667, 0.9666666666666667, 0.966...  0.973333   \n",
       "3     (0, 1, 3)  [0.9333333333333333, 0.9666666666666667, 0.966...  0.953333   \n",
       "\n",
       "  feature_names   ci_bound    std_dev     std_err  \n",
       "4  (0, 1, 2, 3)  0.0134337  0.0133333  0.00666667  \n",
       "3     (0, 1, 3)  0.0164528  0.0163299  0.00816497  "
      ]
     },
     "execution_count": 27,
     "metadata": {},
     "output_type": "execute_result"
    }
   ],
   "source": [
    "pd.DataFrame.from_dict(sbs.get_metric_dict(confidence_interval=0.90)).T"
   ]
  },
  {
   "cell_type": "code",
   "execution_count": 36,
   "id": "floral-lightning",
   "metadata": {},
   "outputs": [
    {
     "name": "stdout",
     "output_type": "stream",
     "text": [
      "\u001b[1;34m"
     ]
    },
    {
     "name": "stderr",
     "output_type": "stream",
     "text": [
      "[Parallel(n_jobs=1)]: Using backend SequentialBackend with 1 concurrent workers.\n",
      "[Parallel(n_jobs=1)]: Done   1 out of   1 | elapsed:    0.0s remaining:    0.0s\n",
      "[Parallel(n_jobs=1)]: Done   4 out of   4 | elapsed:    0.0s finished\n",
      "\n",
      "[2021-09-03 22:25:13] Features: 1/4 -- score: 0.96[Parallel(n_jobs=1)]: Using backend SequentialBackend with 1 concurrent workers.\n",
      "[Parallel(n_jobs=1)]: Done   1 out of   1 | elapsed:    0.0s remaining:    0.0s\n",
      "[Parallel(n_jobs=1)]: Done   3 out of   3 | elapsed:    0.0s finished\n",
      "\n",
      "[2021-09-03 22:25:13] Features: 2/4 -- score: 0.9666666666666668[Parallel(n_jobs=1)]: Using backend SequentialBackend with 1 concurrent workers.\n",
      "[Parallel(n_jobs=1)]: Done   1 out of   1 | elapsed:    0.0s remaining:    0.0s\n",
      "[Parallel(n_jobs=1)]: Done   2 out of   2 | elapsed:    0.0s finished\n",
      "\n",
      "[2021-09-03 22:25:13] Features: 3/4 -- score: 0.9533333333333334[Parallel(n_jobs=1)]: Using backend SequentialBackend with 1 concurrent workers.\n",
      "[Parallel(n_jobs=1)]: Done   1 out of   1 | elapsed:    0.0s remaining:    0.0s\n",
      "[Parallel(n_jobs=1)]: Done   1 out of   1 | elapsed:    0.0s finished\n",
      "\n",
      "[2021-09-03 22:25:13] Features: 4/4 -- score: 0.9733333333333334"
     ]
    },
    {
     "data": {
      "image/png": "[encoded data removed]",
      "text/plain": [
       "<Figure size 432x288 with 1 Axes>"
      ]
     },
     "metadata": {
      "needs_background": "light"
     },
     "output_type": "display_data"
    }
   ],
   "source": [
    "sfs = SFS(knn, k_features=4, forward=True, floating=False, scoring='accuracy', verbose=2,  cv=5)\n",
    "sfs = sfs.fit(X, y)\n",
    "sys.stdout.write(BLUE)\n",
    "fig = plot_sfs(sfs.get_metric_dict(), kind='std_dev')\n",
    "plt.ylim([0.9, 1])\n",
    "plt.title('Sequential Forward Selection (w. StdDev)')\n",
    "plt.grid()\n",
    "plt.show()"
   ]
  }
 ],
 "metadata": {
  "kernelspec": {
   "display_name": "Python 3",
   "language": "python",
   "name": "python3"
  },
  "language_info": {
   "codemirror_mode": {
    "name": "ipython",
    "version": 3
   },
   "file_extension": ".py",
   "mimetype": "text/x-python",
   "name": "python",
   "nbconvert_exporter": "python",
   "pygments_lexer": "ipython3",
   "version": "3.8.8"
  }
 },
 "nbformat": 4,
 "nbformat_minor": 5
}
